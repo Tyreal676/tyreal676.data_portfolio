{
 "cells": [
  {
   "cell_type": "code",
   "execution_count": 1,
   "metadata": {},
   "outputs": [],
   "source": [
    "import pandas as pd"
   ]
  },
  {
   "cell_type": "code",
   "execution_count": 2,
   "metadata": {},
   "outputs": [
    {
     "name": "stderr",
     "output_type": "stream",
     "text": [
      "<>:1: SyntaxWarning: invalid escape sequence '\\D'\n",
      "<>:1: SyntaxWarning: invalid escape sequence '\\D'\n",
      "C:\\Users\\Bryan Rowe\\AppData\\Local\\Temp\\ipykernel_18520\\3455946911.py:1: SyntaxWarning: invalid escape sequence '\\D'\n",
      "  California_Wildfire_Data = pd.read_csv(\"E:\\Downloads off Web\\California_Fire_Incidents.csv\")\n"
     ]
    }
   ],
   "source": [
    "California_Wildfire_Data = pd.read_csv(\"E:\\Downloads off Web\\California_Fire_Incidents.csv\")"
   ]
  },
  {
   "cell_type": "code",
   "execution_count": 3,
   "metadata": {},
   "outputs": [
    {
     "name": "stdout",
     "output_type": "stream",
     "text": [
      "      AcresBurned  Active                                          AdminUnit  \\\n",
      "0        257314.0   False  Stanislaus National Forest/Yosemite National Park   \n",
      "1         30274.0   False  USFS Angeles National Forest/Los Angeles Count...   \n",
      "2         27531.0   False  CAL FIRE Riverside Unit / San Bernardino Natio...   \n",
      "3         27440.0   False                              Tahoe National Forest   \n",
      "4         24251.0   False                       Ventura County Fire/CAL FIRE   \n",
      "...           ...     ...                                                ...   \n",
      "1631          9.0   False                   CAL FIRE / Riverside County Fire   \n",
      "1632          2.0   False                  CAL FIRE Nevada-Yuba-Placer Unit    \n",
      "1633          NaN   False               Yolo County Fire Protection District   \n",
      "1634          NaN   False                   Camp Pendleton Marine Corps Base   \n",
      "1635          NaN   False                           Bureau of Indian Affairs   \n",
      "\n",
      "      AirTankers  ArchiveYear  CalFireIncident  \\\n",
      "0            NaN         2013             True   \n",
      "1            NaN         2013             True   \n",
      "2            NaN         2013             True   \n",
      "3            NaN         2013            False   \n",
      "4            NaN         2013             True   \n",
      "...          ...          ...              ...   \n",
      "1631         NaN         2019             True   \n",
      "1632         NaN         2019             True   \n",
      "1633         NaN         2019            False   \n",
      "1634         NaN         2019            False   \n",
      "1635         NaN         2019            False   \n",
      "\n",
      "                               CanonicalUrl  \\\n",
      "0            /incidents/2013/8/17/rim-fire/   \n",
      "1     /incidents/2013/5/30/powerhouse-fire/   \n",
      "2       /incidents/2013/7/15/mountain-fire/   \n",
      "3       /incidents/2013/8/10/american-fire/   \n",
      "4         /incidents/2013/5/2/springs-fire/   \n",
      "...                                     ...   \n",
      "1631      /incidents/2019/10/10/eagle-fire/   \n",
      "1632        /incidents/2019/6/28/long-fire/   \n",
      "1633      /incidents/2019/11/25/cashe-fire/   \n",
      "1634        /incidents/2019/10/22/oak-fire/   \n",
      "1635    /incidents/2019/10/14/johnson-fire/   \n",
      "\n",
      "                                     ConditionStatement ControlStatement  \\\n",
      "0                                                   NaN              NaN   \n",
      "1                                                   NaN              NaN   \n",
      "2                                                   NaN              NaN   \n",
      "3                                                   NaN              NaN   \n",
      "4     Acreage has been reduced based upon more accur...              NaN   \n",
      "...                                                 ...              ...   \n",
      "1631                                                NaN              NaN   \n",
      "1632                                                NaN              NaN   \n",
      "1633                                                NaN              NaN   \n",
      "1634                                                NaN              NaN   \n",
      "1635  As of 10:00 p.m. on 10/16, the fire is 90% con...              NaN   \n",
      "\n",
      "         Counties  ...                                     SearchKeywords  \\\n",
      "0        Tuolumne  ...  Rim Fire, Stanislaus National Forest, Yosemite...   \n",
      "1     Los Angeles  ...  Powerhouse Fire, May 2013, June 2013, Angeles ...   \n",
      "2       Riverside  ...  Mountain Fire, July 2013, Highway 243, Highway...   \n",
      "3          Placer  ...  American Fire, August 2013, Deadwood Ridge, Fo...   \n",
      "4         Ventura  ...  Springs Fire, May 2013, Highway 101, Camarillo...   \n",
      "...           ...  ...                                                ...   \n",
      "1631    Riverside  ...                                                NaN   \n",
      "1632       Nevada  ...                                                NaN   \n",
      "1633         Yolo  ...                                                NaN   \n",
      "1634    San Diego  ...                                                NaN   \n",
      "1635    Riverside  ...                                                NaN   \n",
      "\n",
      "                   Started     Status  StructuresDamaged StructuresDestroyed  \\\n",
      "0     2013-08-17T15:25:00Z  Finalized                NaN                 NaN   \n",
      "1     2013-05-30T15:28:00Z  Finalized                NaN                 NaN   \n",
      "2     2013-07-15T13:43:00Z  Finalized                NaN                 NaN   \n",
      "3     2013-08-10T16:30:00Z  Finalized                NaN                 NaN   \n",
      "4     2013-05-02T07:01:00Z  Finalized                6.0                10.0   \n",
      "...                    ...        ...                ...                 ...   \n",
      "1631  2019-10-10T12:08:00Z  Finalized                NaN                 NaN   \n",
      "1632  2019-06-28T15:03:04Z  Finalized                NaN                 NaN   \n",
      "1633  2019-11-25T12:02:02Z  Finalized                NaN                 NaN   \n",
      "1634  2019-10-22T19:20:44Z  Finalized                NaN                 NaN   \n",
      "1635  2019-10-14T15:32:20Z   Inactive                NaN                 NaN   \n",
      "\n",
      "      StructuresEvacuated  StructuresThreatened  \\\n",
      "0                     NaN                   NaN   \n",
      "1                     NaN                   NaN   \n",
      "2                     NaN                   NaN   \n",
      "3                     NaN                   NaN   \n",
      "4                     NaN                   NaN   \n",
      "...                   ...                   ...   \n",
      "1631                  NaN                   NaN   \n",
      "1632                  NaN                   NaN   \n",
      "1633                  NaN                   NaN   \n",
      "1634                  NaN                   NaN   \n",
      "1635                  NaN                   NaN   \n",
      "\n",
      "                                  UniqueId                   Updated  \\\n",
      "0     5fb18d4d-213f-4d83-a179-daaf11939e78      2013-09-06T18:30:00Z   \n",
      "1     bf37805e-1cc2-4208-9972-753e47874c87      2013-06-08T18:30:00Z   \n",
      "2     a3149fec-4d48-427c-8b2c-59e8b79d59db      2013-07-30T18:00:00Z   \n",
      "3     8213f5c7-34fa-403b-a4bc-da2ace6e6625      2013-08-30T08:00:00Z   \n",
      "4     46731fb8-3350-4920-bdf7-910ac0eb715c      2013-05-11T06:30:00Z   \n",
      "...                                    ...                       ...   \n",
      "1631  6e93b252-99a3-4214-9921-238373b17535  2019-10-10T18:11:59.733Z   \n",
      "1632  b38c0563-b321-431b-9174-6336c5a0d449  2019-06-30T15:52:01.023Z   \n",
      "1633  9c26f915-1b33-422d-b30a-9eb4da6fd729   2019-12-03T16:35:20.93Z   \n",
      "1634  7264a106-e0f4-41de-8fd0-3f9110431e28   2019-11-21T12:21:28.58Z   \n",
      "1635  8bf75401-999f-42bd-8c0a-8db508591545   2019-10-30T10:14:19.58Z   \n",
      "\n",
      "      WaterTenders  \n",
      "0              NaN  \n",
      "1              NaN  \n",
      "2              NaN  \n",
      "3              NaN  \n",
      "4             11.0  \n",
      "...            ...  \n",
      "1631           NaN  \n",
      "1632           NaN  \n",
      "1633           NaN  \n",
      "1634           NaN  \n",
      "1635           NaN  \n",
      "\n",
      "[1636 rows x 40 columns]\n"
     ]
    }
   ],
   "source": [
    "print(California_Wildfire_Data)"
   ]
  },
  {
   "cell_type": "code",
   "execution_count": 4,
   "metadata": {},
   "outputs": [],
   "source": [
    "Amount_of_acres_burned = (California_Wildfire_Data[[ 'Updated', 'AcresBurned']])\n",
    "\n",
    "#Specifying the two variables needed"
   ]
  },
  {
   "cell_type": "code",
   "execution_count": 5,
   "metadata": {},
   "outputs": [
    {
     "name": "stdout",
     "output_type": "stream",
     "text": [
      "                       Updated  AcresBurned\n",
      "0         2013-09-06T18:30:00Z     257314.0\n",
      "1         2013-06-08T18:30:00Z      30274.0\n",
      "2         2013-07-30T18:00:00Z      27531.0\n",
      "3         2013-08-30T08:00:00Z      27440.0\n",
      "4         2013-05-11T06:30:00Z      24251.0\n",
      "...                        ...          ...\n",
      "1631  2019-10-10T18:11:59.733Z          9.0\n",
      "1632  2019-06-30T15:52:01.023Z          2.0\n",
      "1633   2019-12-03T16:35:20.93Z          NaN\n",
      "1634   2019-11-21T12:21:28.58Z          NaN\n",
      "1635   2019-10-30T10:14:19.58Z          NaN\n",
      "\n",
      "[1636 rows x 2 columns]\n"
     ]
    }
   ],
   "source": [
    "print(Amount_of_acres_burned)"
   ]
  },
  {
   "cell_type": "code",
   "execution_count": 6,
   "metadata": {},
   "outputs": [],
   "source": [
    "from statsmodels.tsa.holtwinters import ExponentialSmoothing\n"
   ]
  },
  {
   "cell_type": "code",
   "execution_count": 7,
   "metadata": {},
   "outputs": [
    {
     "name": "stderr",
     "output_type": "stream",
     "text": [
      "C:\\Users\\Bryan Rowe\\AppData\\Local\\Temp\\ipykernel_18520\\3358212051.py:1: SettingWithCopyWarning: \n",
      "A value is trying to be set on a copy of a slice from a DataFrame.\n",
      "Try using .loc[row_indexer,col_indexer] = value instead\n",
      "\n",
      "See the caveats in the documentation: https://pandas.pydata.org/pandas-docs/stable/user_guide/indexing.html#returning-a-view-versus-a-copy\n",
      "  Amount_of_acres_burned[\"date\"] = pd.to_datetime(Amount_of_acres_burned[\"Updated\"], format = 'mixed')\n"
     ]
    }
   ],
   "source": [
    "Amount_of_acres_burned[\"date\"] = pd.to_datetime(Amount_of_acres_burned[\"Updated\"], format = 'mixed')"
   ]
  },
  {
   "cell_type": "code",
   "execution_count": 8,
   "metadata": {},
   "outputs": [
    {
     "name": "stdout",
     "output_type": "stream",
     "text": [
      "                       Updated  AcresBurned                             date\n",
      "0         2013-09-06T18:30:00Z     257314.0        2013-09-06 18:30:00+00:00\n",
      "1         2013-06-08T18:30:00Z      30274.0        2013-06-08 18:30:00+00:00\n",
      "2         2013-07-30T18:00:00Z      27531.0        2013-07-30 18:00:00+00:00\n",
      "3         2013-08-30T08:00:00Z      27440.0        2013-08-30 08:00:00+00:00\n",
      "4         2013-05-11T06:30:00Z      24251.0        2013-05-11 06:30:00+00:00\n",
      "...                        ...          ...                              ...\n",
      "1631  2019-10-10T18:11:59.733Z          9.0 2019-10-10 18:11:59.733000+00:00\n",
      "1632  2019-06-30T15:52:01.023Z          2.0 2019-06-30 15:52:01.023000+00:00\n",
      "1633   2019-12-03T16:35:20.93Z          NaN 2019-12-03 16:35:20.930000+00:00\n",
      "1634   2019-11-21T12:21:28.58Z          NaN 2019-11-21 12:21:28.580000+00:00\n",
      "1635   2019-10-30T10:14:19.58Z          NaN 2019-10-30 10:14:19.580000+00:00\n",
      "\n",
      "[1636 rows x 3 columns]\n"
     ]
    }
   ],
   "source": [
    "print(Amount_of_acres_burned)"
   ]
  },
  {
   "cell_type": "code",
   "execution_count": 9,
   "metadata": {},
   "outputs": [
    {
     "name": "stdout",
     "output_type": "stream",
     "text": [
      "                       Updated  AcresBurned                             date\n",
      "0         2013-09-06T18:30:00Z     257314.0        2013-09-06 18:30:00+00:00\n",
      "1         2013-06-08T18:30:00Z      30274.0        2013-06-08 18:30:00+00:00\n",
      "2         2013-07-30T18:00:00Z      27531.0        2013-07-30 18:00:00+00:00\n",
      "3         2013-08-30T08:00:00Z      27440.0        2013-08-30 08:00:00+00:00\n",
      "4         2013-05-11T06:30:00Z      24251.0        2013-05-11 06:30:00+00:00\n",
      "...                        ...          ...                              ...\n",
      "1631  2019-10-10T18:11:59.733Z          9.0 2019-10-10 18:11:59.733000+00:00\n",
      "1632  2019-06-30T15:52:01.023Z          2.0 2019-06-30 15:52:01.023000+00:00\n",
      "1633   2019-12-03T16:35:20.93Z          NaN 2019-12-03 16:35:20.930000+00:00\n",
      "1634   2019-11-21T12:21:28.58Z          NaN 2019-11-21 12:21:28.580000+00:00\n",
      "1635   2019-10-30T10:14:19.58Z          NaN 2019-10-30 10:14:19.580000+00:00\n",
      "\n",
      "[1636 rows x 3 columns]\n"
     ]
    }
   ],
   "source": [
    "print(Amount_of_acres_burned)"
   ]
  },
  {
   "cell_type": "code",
   "execution_count": 10,
   "metadata": {},
   "outputs": [
    {
     "name": "stderr",
     "output_type": "stream",
     "text": [
      "C:\\Users\\Bryan Rowe\\AppData\\Local\\Temp\\ipykernel_18520\\4254083856.py:1: SettingWithCopyWarning: \n",
      "A value is trying to be set on a copy of a slice from a DataFrame.\n",
      "Try using .loc[row_indexer,col_indexer] = value instead\n",
      "\n",
      "See the caveats in the documentation: https://pandas.pydata.org/pandas-docs/stable/user_guide/indexing.html#returning-a-view-versus-a-copy\n",
      "  Amount_of_acres_burned['date'] = Amount_of_acres_burned['date'].dt.strftime('%Y-%m-%d')\n"
     ]
    }
   ],
   "source": [
    "Amount_of_acres_burned['date'] = Amount_of_acres_burned['date'].dt.strftime('%Y-%m-%d')"
   ]
  },
  {
   "cell_type": "code",
   "execution_count": 11,
   "metadata": {},
   "outputs": [
    {
     "name": "stdout",
     "output_type": "stream",
     "text": [
      "                       Updated  AcresBurned        date\n",
      "0         2013-09-06T18:30:00Z     257314.0  2013-09-06\n",
      "1         2013-06-08T18:30:00Z      30274.0  2013-06-08\n",
      "2         2013-07-30T18:00:00Z      27531.0  2013-07-30\n",
      "3         2013-08-30T08:00:00Z      27440.0  2013-08-30\n",
      "4         2013-05-11T06:30:00Z      24251.0  2013-05-11\n",
      "...                        ...          ...         ...\n",
      "1631  2019-10-10T18:11:59.733Z          9.0  2019-10-10\n",
      "1632  2019-06-30T15:52:01.023Z          2.0  2019-06-30\n",
      "1633   2019-12-03T16:35:20.93Z          NaN  2019-12-03\n",
      "1634   2019-11-21T12:21:28.58Z          NaN  2019-11-21\n",
      "1635   2019-10-30T10:14:19.58Z          NaN  2019-10-30\n",
      "\n",
      "[1636 rows x 3 columns]\n"
     ]
    }
   ],
   "source": [
    "print(Amount_of_acres_burned)"
   ]
  },
  {
   "cell_type": "code",
   "execution_count": 12,
   "metadata": {},
   "outputs": [
    {
     "data": {
      "text/html": [
       "<div>\n",
       "<style scoped>\n",
       "    .dataframe tbody tr th:only-of-type {\n",
       "        vertical-align: middle;\n",
       "    }\n",
       "\n",
       "    .dataframe tbody tr th {\n",
       "        vertical-align: top;\n",
       "    }\n",
       "\n",
       "    .dataframe thead th {\n",
       "        text-align: right;\n",
       "    }\n",
       "</style>\n",
       "<table border=\"1\" class=\"dataframe\">\n",
       "  <thead>\n",
       "    <tr style=\"text-align: right;\">\n",
       "      <th></th>\n",
       "      <th>Updated</th>\n",
       "      <th>AcresBurned</th>\n",
       "      <th>date</th>\n",
       "    </tr>\n",
       "  </thead>\n",
       "  <tbody>\n",
       "    <tr>\n",
       "      <th>0</th>\n",
       "      <td>2013-09-06T18:30:00Z</td>\n",
       "      <td>257314.0</td>\n",
       "      <td>2013-09-06</td>\n",
       "    </tr>\n",
       "    <tr>\n",
       "      <th>1</th>\n",
       "      <td>2013-06-08T18:30:00Z</td>\n",
       "      <td>30274.0</td>\n",
       "      <td>2013-06-08</td>\n",
       "    </tr>\n",
       "    <tr>\n",
       "      <th>2</th>\n",
       "      <td>2013-07-30T18:00:00Z</td>\n",
       "      <td>27531.0</td>\n",
       "      <td>2013-07-30</td>\n",
       "    </tr>\n",
       "    <tr>\n",
       "      <th>3</th>\n",
       "      <td>2013-08-30T08:00:00Z</td>\n",
       "      <td>27440.0</td>\n",
       "      <td>2013-08-30</td>\n",
       "    </tr>\n",
       "    <tr>\n",
       "      <th>4</th>\n",
       "      <td>2013-05-11T06:30:00Z</td>\n",
       "      <td>24251.0</td>\n",
       "      <td>2013-05-11</td>\n",
       "    </tr>\n",
       "    <tr>\n",
       "      <th>...</th>\n",
       "      <td>...</td>\n",
       "      <td>...</td>\n",
       "      <td>...</td>\n",
       "    </tr>\n",
       "    <tr>\n",
       "      <th>1628</th>\n",
       "      <td>2019-07-25T18:59:59.017Z</td>\n",
       "      <td>10.0</td>\n",
       "      <td>2019-07-25</td>\n",
       "    </tr>\n",
       "    <tr>\n",
       "      <th>1629</th>\n",
       "      <td>2019-07-03T13:12:42.677Z</td>\n",
       "      <td>10.0</td>\n",
       "      <td>2019-07-03</td>\n",
       "    </tr>\n",
       "    <tr>\n",
       "      <th>1630</th>\n",
       "      <td>2019-05-08T08:47:00Z</td>\n",
       "      <td>10.0</td>\n",
       "      <td>2019-05-08</td>\n",
       "    </tr>\n",
       "    <tr>\n",
       "      <th>1631</th>\n",
       "      <td>2019-10-10T18:11:59.733Z</td>\n",
       "      <td>9.0</td>\n",
       "      <td>2019-10-10</td>\n",
       "    </tr>\n",
       "    <tr>\n",
       "      <th>1632</th>\n",
       "      <td>2019-06-30T15:52:01.023Z</td>\n",
       "      <td>2.0</td>\n",
       "      <td>2019-06-30</td>\n",
       "    </tr>\n",
       "  </tbody>\n",
       "</table>\n",
       "<p>1633 rows × 3 columns</p>\n",
       "</div>"
      ],
      "text/plain": [
       "                       Updated  AcresBurned        date\n",
       "0         2013-09-06T18:30:00Z     257314.0  2013-09-06\n",
       "1         2013-06-08T18:30:00Z      30274.0  2013-06-08\n",
       "2         2013-07-30T18:00:00Z      27531.0  2013-07-30\n",
       "3         2013-08-30T08:00:00Z      27440.0  2013-08-30\n",
       "4         2013-05-11T06:30:00Z      24251.0  2013-05-11\n",
       "...                        ...          ...         ...\n",
       "1628  2019-07-25T18:59:59.017Z         10.0  2019-07-25\n",
       "1629  2019-07-03T13:12:42.677Z         10.0  2019-07-03\n",
       "1630      2019-05-08T08:47:00Z         10.0  2019-05-08\n",
       "1631  2019-10-10T18:11:59.733Z          9.0  2019-10-10\n",
       "1632  2019-06-30T15:52:01.023Z          2.0  2019-06-30\n",
       "\n",
       "[1633 rows x 3 columns]"
      ]
     },
     "execution_count": 12,
     "metadata": {},
     "output_type": "execute_result"
    }
   ],
   "source": [
    "Amount_of_acres_burned.dropna()\n",
    "\n",
    "#Dropping null values, good news is we retained most of the values"
   ]
  },
  {
   "cell_type": "code",
   "execution_count": 13,
   "metadata": {},
   "outputs": [
    {
     "name": "stderr",
     "output_type": "stream",
     "text": [
      "C:\\Users\\Bryan Rowe\\AppData\\Local\\Temp\\ipykernel_18520\\559270314.py:1: SettingWithCopyWarning: \n",
      "A value is trying to be set on a copy of a slice from a DataFrame\n",
      "\n",
      "See the caveats in the documentation: https://pandas.pydata.org/pandas-docs/stable/user_guide/indexing.html#returning-a-view-versus-a-copy\n",
      "  Amount_of_acres_burned.drop('Updated', axis=1, inplace=True)\n"
     ]
    }
   ],
   "source": [
    "Amount_of_acres_burned.drop('Updated', axis=1, inplace=True)\n"
   ]
  },
  {
   "cell_type": "code",
   "execution_count": 14,
   "metadata": {},
   "outputs": [
    {
     "name": "stdout",
     "output_type": "stream",
     "text": [
      "      AcresBurned        date\n",
      "0        257314.0  2013-09-06\n",
      "1         30274.0  2013-06-08\n",
      "2         27531.0  2013-07-30\n",
      "3         27440.0  2013-08-30\n",
      "4         24251.0  2013-05-11\n",
      "...           ...         ...\n",
      "1631          9.0  2019-10-10\n",
      "1632          2.0  2019-06-30\n",
      "1633          NaN  2019-12-03\n",
      "1634          NaN  2019-11-21\n",
      "1635          NaN  2019-10-30\n",
      "\n",
      "[1636 rows x 2 columns]\n"
     ]
    }
   ],
   "source": [
    "print(Amount_of_acres_burned)"
   ]
  },
  {
   "cell_type": "code",
   "execution_count": 15,
   "metadata": {},
   "outputs": [],
   "source": [
    "Acres_with_blanks_dropped = Amount_of_acres_burned.dropna()"
   ]
  },
  {
   "cell_type": "code",
   "execution_count": 16,
   "metadata": {},
   "outputs": [
    {
     "data": {
      "text/plain": [
       "AcresBurned    float64\n",
       "date            object\n",
       "dtype: object"
      ]
     },
     "execution_count": 16,
     "metadata": {},
     "output_type": "execute_result"
    }
   ],
   "source": [
    "Acres_with_blanks_dropped.dtypes"
   ]
  },
  {
   "cell_type": "code",
   "execution_count": 17,
   "metadata": {},
   "outputs": [
    {
     "name": "stderr",
     "output_type": "stream",
     "text": [
      "C:\\Users\\Bryan Rowe\\AppData\\Local\\Temp\\ipykernel_18520\\3559711445.py:1: SettingWithCopyWarning: \n",
      "A value is trying to be set on a copy of a slice from a DataFrame.\n",
      "Try using .loc[row_indexer,col_indexer] = value instead\n",
      "\n",
      "See the caveats in the documentation: https://pandas.pydata.org/pandas-docs/stable/user_guide/indexing.html#returning-a-view-versus-a-copy\n",
      "  Acres_with_blanks_dropped['date'] = pd.to_datetime(Acres_with_blanks_dropped['date'])\n"
     ]
    }
   ],
   "source": [
    "Acres_with_blanks_dropped['date'] = pd.to_datetime(Acres_with_blanks_dropped['date'])"
   ]
  },
  {
   "cell_type": "code",
   "execution_count": 18,
   "metadata": {},
   "outputs": [
    {
     "name": "stdout",
     "output_type": "stream",
     "text": [
      "      AcresBurned       date\n",
      "0        257314.0 2013-09-06\n",
      "1         30274.0 2013-06-08\n",
      "2         27531.0 2013-07-30\n",
      "3         27440.0 2013-08-30\n",
      "4         24251.0 2013-05-11\n",
      "...           ...        ...\n",
      "1628         10.0 2019-07-25\n",
      "1629         10.0 2019-07-03\n",
      "1630         10.0 2019-05-08\n",
      "1631          9.0 2019-10-10\n",
      "1632          2.0 2019-06-30\n",
      "\n",
      "[1633 rows x 2 columns]\n"
     ]
    }
   ],
   "source": [
    "print(Acres_with_blanks_dropped)"
   ]
  },
  {
   "cell_type": "code",
   "execution_count": 19,
   "metadata": {},
   "outputs": [
    {
     "data": {
      "text/plain": [
       "AcresBurned           float64\n",
       "date           datetime64[ns]\n",
       "dtype: object"
      ]
     },
     "execution_count": 19,
     "metadata": {},
     "output_type": "execute_result"
    }
   ],
   "source": [
    "Acres_with_blanks_dropped.dtypes"
   ]
  },
  {
   "cell_type": "code",
   "execution_count": 20,
   "metadata": {},
   "outputs": [],
   "source": [
    "import matplotlib.pyplot as plt"
   ]
  },
  {
   "cell_type": "code",
   "execution_count": 21,
   "metadata": {},
   "outputs": [
    {
     "data": {
      "image/png": "[encoded data removed]",
      "text/plain": [
       "<Figure size 640x480 with 1 Axes>"
      ]
     },
     "metadata": {},
     "output_type": "display_data"
    }
   ],
   "source": [
    "plt.plot(Acres_with_blanks_dropped)\n",
    "plt.xlabel('date')\n",
    "plt.ylabel('AcresBurned')\n",
    "plt.show()"
   ]
  },
  {
   "cell_type": "code",
   "execution_count": 22,
   "metadata": {},
   "outputs": [
    {
     "name": "stderr",
     "output_type": "stream",
     "text": [
      "C:\\Users\\Bryan Rowe\\AppData\\Local\\Temp\\ipykernel_18520\\1490281416.py:1: SettingWithCopyWarning: \n",
      "A value is trying to be set on a copy of a slice from a DataFrame.\n",
      "Try using .loc[row_indexer,col_indexer] = value instead\n",
      "\n",
      "See the caveats in the documentation: https://pandas.pydata.org/pandas-docs/stable/user_guide/indexing.html#returning-a-view-versus-a-copy\n",
      "  Acres_with_blanks_dropped['AcresBurned'] = Acres_with_blanks_dropped['AcresBurned'].astype(int)\n"
     ]
    }
   ],
   "source": [
    "Acres_with_blanks_dropped['AcresBurned'] = Acres_with_blanks_dropped['AcresBurned'].astype(int)"
   ]
  },
  {
   "cell_type": "code",
   "execution_count": 23,
   "metadata": {},
   "outputs": [
    {
     "data": {
      "text/plain": [
       "AcresBurned             int32\n",
       "date           datetime64[ns]\n",
       "dtype: object"
      ]
     },
     "execution_count": 23,
     "metadata": {},
     "output_type": "execute_result"
    }
   ],
   "source": [
    "Acres_with_blanks_dropped.dtypes"
   ]
  },
  {
   "cell_type": "code",
   "execution_count": 24,
   "metadata": {},
   "outputs": [],
   "source": [
    "Acres_with_blanks_dropped.set_index('date', inplace=True)\n"
   ]
  },
  {
   "cell_type": "code",
   "execution_count": 25,
   "metadata": {},
   "outputs": [
    {
     "name": "stderr",
     "output_type": "stream",
     "text": [
      "C:\\Users\\Bryan Rowe\\AppData\\Local\\Temp\\ipykernel_18520\\356051146.py:1: FutureWarning: 'Y' is deprecated and will be removed in a future version, please use 'YE' instead.\n",
      "  Monthly_acres_burned = Acres_with_blanks_dropped.resample('Y').mean()\n"
     ]
    }
   ],
   "source": [
    "Monthly_acres_burned = Acres_with_blanks_dropped.resample('Y').mean()"
   ]
  },
  {
   "cell_type": "code",
   "execution_count": 26,
   "metadata": {},
   "outputs": [
    {
     "name": "stdout",
     "output_type": "stream",
     "text": [
      "            AcresBurned\n",
      "date                   \n",
      "1969-12-31    45.000000\n",
      "1970-12-31          NaN\n",
      "1971-12-31          NaN\n",
      "1972-12-31          NaN\n",
      "1973-12-31          NaN\n",
      "1974-12-31          NaN\n",
      "1975-12-31          NaN\n",
      "1976-12-31          NaN\n",
      "1977-12-31          NaN\n",
      "1978-12-31          NaN\n",
      "1979-12-31          NaN\n",
      "1980-12-31          NaN\n",
      "1981-12-31          NaN\n",
      "1982-12-31          NaN\n",
      "1983-12-31          NaN\n",
      "1984-12-31          NaN\n",
      "1985-12-31          NaN\n",
      "1986-12-31          NaN\n",
      "1987-12-31          NaN\n",
      "1988-12-31          NaN\n",
      "1989-12-31          NaN\n",
      "1990-12-31          NaN\n",
      "1991-12-31          NaN\n",
      "1992-12-31          NaN\n",
      "1993-12-31          NaN\n",
      "1994-12-31          NaN\n",
      "1995-12-31          NaN\n",
      "1996-12-31          NaN\n",
      "1997-12-31          NaN\n",
      "1998-12-31          NaN\n",
      "1999-12-31          NaN\n",
      "2000-12-31          NaN\n",
      "2001-12-31          NaN\n",
      "2002-12-31          NaN\n",
      "2003-12-31          NaN\n",
      "2004-12-31          NaN\n",
      "2005-12-31          NaN\n",
      "2006-12-31          NaN\n",
      "2007-12-31          NaN\n",
      "2008-12-31          NaN\n",
      "2009-12-31          NaN\n",
      "2010-12-31          NaN\n",
      "2011-12-31          NaN\n",
      "2012-12-31          NaN\n",
      "2013-12-31  3257.685185\n",
      "2014-12-31  3860.921053\n",
      "2015-12-31  3829.273333\n",
      "2016-12-31  2798.636364\n",
      "2017-12-31  4474.000000\n",
      "2018-12-31  2130.484487\n",
      "2019-12-31  7512.158678\n",
      "2020-12-31  4407.000000\n"
     ]
    }
   ],
   "source": [
    "print(Monthly_acres_burned)"
   ]
  },
  {
   "cell_type": "code",
   "execution_count": 27,
   "metadata": {},
   "outputs": [
    {
     "data": {
      "text/html": [
       "<div>\n",
       "<style scoped>\n",
       "    .dataframe tbody tr th:only-of-type {\n",
       "        vertical-align: middle;\n",
       "    }\n",
       "\n",
       "    .dataframe tbody tr th {\n",
       "        vertical-align: top;\n",
       "    }\n",
       "\n",
       "    .dataframe thead th {\n",
       "        text-align: right;\n",
       "    }\n",
       "</style>\n",
       "<table border=\"1\" class=\"dataframe\">\n",
       "  <thead>\n",
       "    <tr style=\"text-align: right;\">\n",
       "      <th></th>\n",
       "      <th>AcresBurned</th>\n",
       "    </tr>\n",
       "    <tr>\n",
       "      <th>date</th>\n",
       "      <th></th>\n",
       "    </tr>\n",
       "  </thead>\n",
       "  <tbody>\n",
       "    <tr>\n",
       "      <th>1969-12-31</th>\n",
       "      <td>45.000000</td>\n",
       "    </tr>\n",
       "    <tr>\n",
       "      <th>2013-12-31</th>\n",
       "      <td>3257.685185</td>\n",
       "    </tr>\n",
       "    <tr>\n",
       "      <th>2014-12-31</th>\n",
       "      <td>3860.921053</td>\n",
       "    </tr>\n",
       "    <tr>\n",
       "      <th>2015-12-31</th>\n",
       "      <td>3829.273333</td>\n",
       "    </tr>\n",
       "    <tr>\n",
       "      <th>2016-12-31</th>\n",
       "      <td>2798.636364</td>\n",
       "    </tr>\n",
       "    <tr>\n",
       "      <th>2017-12-31</th>\n",
       "      <td>4474.000000</td>\n",
       "    </tr>\n",
       "    <tr>\n",
       "      <th>2018-12-31</th>\n",
       "      <td>2130.484487</td>\n",
       "    </tr>\n",
       "    <tr>\n",
       "      <th>2019-12-31</th>\n",
       "      <td>7512.158678</td>\n",
       "    </tr>\n",
       "    <tr>\n",
       "      <th>2020-12-31</th>\n",
       "      <td>4407.000000</td>\n",
       "    </tr>\n",
       "  </tbody>\n",
       "</table>\n",
       "</div>"
      ],
      "text/plain": [
       "            AcresBurned\n",
       "date                   \n",
       "1969-12-31    45.000000\n",
       "2013-12-31  3257.685185\n",
       "2014-12-31  3860.921053\n",
       "2015-12-31  3829.273333\n",
       "2016-12-31  2798.636364\n",
       "2017-12-31  4474.000000\n",
       "2018-12-31  2130.484487\n",
       "2019-12-31  7512.158678\n",
       "2020-12-31  4407.000000"
      ]
     },
     "execution_count": 27,
     "metadata": {},
     "output_type": "execute_result"
    }
   ],
   "source": [
    "Monthly_acres_burned.dropna()"
   ]
  },
  {
   "cell_type": "code",
   "execution_count": 28,
   "metadata": {},
   "outputs": [
    {
     "data": {
      "text/html": [
       "<div>\n",
       "<style scoped>\n",
       "    .dataframe tbody tr th:only-of-type {\n",
       "        vertical-align: middle;\n",
       "    }\n",
       "\n",
       "    .dataframe tbody tr th {\n",
       "        vertical-align: top;\n",
       "    }\n",
       "\n",
       "    .dataframe thead th {\n",
       "        text-align: right;\n",
       "    }\n",
       "</style>\n",
       "<table border=\"1\" class=\"dataframe\">\n",
       "  <thead>\n",
       "    <tr style=\"text-align: right;\">\n",
       "      <th></th>\n",
       "      <th>AcresBurned</th>\n",
       "    </tr>\n",
       "    <tr>\n",
       "      <th>date</th>\n",
       "      <th></th>\n",
       "    </tr>\n",
       "  </thead>\n",
       "  <tbody>\n",
       "    <tr>\n",
       "      <th>1969-12-31</th>\n",
       "      <td>45.0</td>\n",
       "    </tr>\n",
       "    <tr>\n",
       "      <th>1970-12-31</th>\n",
       "      <td>NaN</td>\n",
       "    </tr>\n",
       "    <tr>\n",
       "      <th>1971-12-31</th>\n",
       "      <td>NaN</td>\n",
       "    </tr>\n",
       "    <tr>\n",
       "      <th>1972-12-31</th>\n",
       "      <td>NaN</td>\n",
       "    </tr>\n",
       "    <tr>\n",
       "      <th>1973-12-31</th>\n",
       "      <td>NaN</td>\n",
       "    </tr>\n",
       "  </tbody>\n",
       "</table>\n",
       "</div>"
      ],
      "text/plain": [
       "            AcresBurned\n",
       "date                   \n",
       "1969-12-31         45.0\n",
       "1970-12-31          NaN\n",
       "1971-12-31          NaN\n",
       "1972-12-31          NaN\n",
       "1973-12-31          NaN"
      ]
     },
     "execution_count": 28,
     "metadata": {},
     "output_type": "execute_result"
    }
   ],
   "source": [
    "Monthly_acres_burned.head()"
   ]
  },
  {
   "cell_type": "code",
   "execution_count": 29,
   "metadata": {},
   "outputs": [],
   "source": [
    "Monthly_acres_burned_cleaned = Monthly_acres_burned.iloc[1:]\n"
   ]
  },
  {
   "cell_type": "code",
   "execution_count": 30,
   "metadata": {},
   "outputs": [
    {
     "name": "stdout",
     "output_type": "stream",
     "text": [
      "            AcresBurned\n",
      "date                   \n",
      "1970-12-31          NaN\n",
      "1971-12-31          NaN\n",
      "1972-12-31          NaN\n",
      "1973-12-31          NaN\n",
      "1974-12-31          NaN\n",
      "1975-12-31          NaN\n",
      "1976-12-31          NaN\n",
      "1977-12-31          NaN\n",
      "1978-12-31          NaN\n",
      "1979-12-31          NaN\n",
      "1980-12-31          NaN\n",
      "1981-12-31          NaN\n",
      "1982-12-31          NaN\n",
      "1983-12-31          NaN\n",
      "1984-12-31          NaN\n",
      "1985-12-31          NaN\n",
      "1986-12-31          NaN\n",
      "1987-12-31          NaN\n",
      "1988-12-31          NaN\n",
      "1989-12-31          NaN\n",
      "1990-12-31          NaN\n",
      "1991-12-31          NaN\n",
      "1992-12-31          NaN\n",
      "1993-12-31          NaN\n",
      "1994-12-31          NaN\n",
      "1995-12-31          NaN\n",
      "1996-12-31          NaN\n",
      "1997-12-31          NaN\n",
      "1998-12-31          NaN\n",
      "1999-12-31          NaN\n",
      "2000-12-31          NaN\n",
      "2001-12-31          NaN\n",
      "2002-12-31          NaN\n",
      "2003-12-31          NaN\n",
      "2004-12-31          NaN\n",
      "2005-12-31          NaN\n",
      "2006-12-31          NaN\n",
      "2007-12-31          NaN\n",
      "2008-12-31          NaN\n",
      "2009-12-31          NaN\n",
      "2010-12-31          NaN\n",
      "2011-12-31          NaN\n",
      "2012-12-31          NaN\n",
      "2013-12-31  3257.685185\n",
      "2014-12-31  3860.921053\n",
      "2015-12-31  3829.273333\n",
      "2016-12-31  2798.636364\n",
      "2017-12-31  4474.000000\n",
      "2018-12-31  2130.484487\n",
      "2019-12-31  7512.158678\n",
      "2020-12-31  4407.000000\n"
     ]
    }
   ],
   "source": [
    "print(Monthly_acres_burned_cleaned)"
   ]
  },
  {
   "cell_type": "code",
   "execution_count": 31,
   "metadata": {},
   "outputs": [],
   "source": [
    "For_time_series_model = Monthly_acres_burned_cleaned.dropna()"
   ]
  },
  {
   "cell_type": "code",
   "execution_count": 32,
   "metadata": {},
   "outputs": [
    {
     "name": "stdout",
     "output_type": "stream",
     "text": [
      "            AcresBurned\n",
      "date                   \n",
      "2013-12-31  3257.685185\n",
      "2014-12-31  3860.921053\n",
      "2015-12-31  3829.273333\n",
      "2016-12-31  2798.636364\n",
      "2017-12-31  4474.000000\n",
      "2018-12-31  2130.484487\n",
      "2019-12-31  7512.158678\n",
      "2020-12-31  4407.000000\n"
     ]
    }
   ],
   "source": [
    "print(For_time_series_model)"
   ]
  },
  {
   "cell_type": "code",
   "execution_count": 33,
   "metadata": {},
   "outputs": [
    {
     "data": {
      "image/png": "[encoded data removed]",
      "text/plain": [
       "<Figure size 640x480 with 1 Axes>"
      ]
     },
     "metadata": {},
     "output_type": "display_data"
    }
   ],
   "source": [
    "plt.plot(For_time_series_model)\n",
    "plt.xlabel('date')\n",
    "plt.ylabel('AcresBurned')\n",
    "plt.show()"
   ]
  },
  {
   "cell_type": "code",
   "execution_count": 34,
   "metadata": {},
   "outputs": [],
   "source": [
    "from statsmodels.tsa.api import SimpleExpSmoothing\n",
    "model = SimpleExpSmoothing(For_time_series_model)\n",
    "model_single_fit = model.fit()"
   ]
  },
  {
   "cell_type": "code",
   "execution_count": 35,
   "metadata": {},
   "outputs": [
    {
     "name": "stdout",
     "output_type": "stream",
     "text": [
      "2021-12-31    3910.97642\n",
      "2022-12-31    3910.97642\n",
      "2023-12-31    3910.97642\n",
      "2024-12-31    3910.97642\n",
      "2025-12-31    3910.97642\n",
      "2026-12-31    3910.97642\n",
      "Freq: YE-DEC, dtype: float64\n"
     ]
    }
   ],
   "source": [
    "forecast_single = model_single_fit.forecast(6)\n",
    "print(forecast_single)"
   ]
  },
  {
   "cell_type": "code",
   "execution_count": 36,
   "metadata": {},
   "outputs": [],
   "source": [
    "forecast_single = model_single_fit.forecast(40)"
   ]
  },
  {
   "cell_type": "code",
   "execution_count": 37,
   "metadata": {},
   "outputs": [
    {
     "data": {
      "image/png": "[encoded data removed]",
      "text/plain": [
       "<Figure size 640x480 with 1 Axes>"
      ]
     },
     "metadata": {},
     "output_type": "display_data"
    }
   ],
   "source": [
    "plt.plot(For_time_series_model, label='Original Data')\n",
    "plt.plot(model_single_fit.fittedvalues, label='Fitted Values')\n",
    "plt.plot(forecast_single, label='Forecast')\n",
    "plt.xlabel('Year')\n",
    "plt.ylabel('Number of Acres Burned')\n",
    "plt.title('Single Exponential Smoothing')\n",
    "plt.legend()\n",
    "plt.show()"
   ]
  },
  {
   "cell_type": "code",
   "execution_count": 38,
   "metadata": {},
   "outputs": [],
   "source": [
    "from statsmodels.tsa.api import Holt\n",
    "\n",
    "model_double = Holt(For_time_series_model)\n",
    "model_double_fit = model_double.fit()"
   ]
  },
  {
   "cell_type": "code",
   "execution_count": 39,
   "metadata": {},
   "outputs": [
    {
     "name": "stdout",
     "output_type": "stream",
     "text": [
      "2021-12-31    5465.721446\n",
      "2022-12-31    5725.138392\n",
      "2023-12-31    5984.555338\n",
      "2024-12-31    6243.972284\n",
      "2025-12-31    6503.389229\n",
      "2026-12-31    6762.806175\n",
      "Freq: YE-DEC, dtype: float64\n"
     ]
    }
   ],
   "source": [
    "forecast_double = model_double_fit.forecast(6)\n",
    "print(forecast_double)"
   ]
  },
  {
   "cell_type": "code",
   "execution_count": 40,
   "metadata": {},
   "outputs": [],
   "source": [
    "forecast_double = model_double_fit.forecast(40)"
   ]
  },
  {
   "cell_type": "code",
   "execution_count": 41,
   "metadata": {},
   "outputs": [
    {
     "data": {
      "image/png": "[encoded data removed]",
      "text/plain": [
       "<Figure size 640x480 with 1 Axes>"
      ]
     },
     "metadata": {},
     "output_type": "display_data"
    }
   ],
   "source": [
    "plt.plot(For_time_series_model, label='Original Data')\n",
    "plt.plot(model_double_fit.fittedvalues, label='Fitted Values')\n",
    "plt.plot(forecast_double, label='Forecast')\n",
    "plt.xlabel('Year')\n",
    "plt.ylabel('Number of Acres Burned')\n",
    "plt.title('Double Exponential Smoothing')\n",
    "plt.legend()\n",
    "plt.show()"
   ]
  },
  {
   "cell_type": "code",
   "execution_count": 42,
   "metadata": {},
   "outputs": [],
   "source": [
    "from statsmodels.tsa.api import ExponentialSmoothing\n",
    "\n",
    "model_triple = ExponentialSmoothing(\n",
    "    For_time_series_model, seasonal_periods=4, trend='add', seasonal='add',  initialization_method=\"estimated\")\n",
    "\n",
    "#Needs to be 4, only 8 years of data and needs two cycles, so a cycle is 4 years\n",
    "\n",
    "model_triple_fit = model_triple.fit()"
   ]
  },
  {
   "cell_type": "code",
   "execution_count": 43,
   "metadata": {},
   "outputs": [
    {
     "name": "stdout",
     "output_type": "stream",
     "text": [
      "2021-12-31    5185.682333\n",
      "2022-12-31    4070.588106\n",
      "2023-12-31    7332.748383\n",
      "2024-12-31    4734.689498\n",
      "2025-12-31    6029.939903\n",
      "2026-12-31    4914.845675\n",
      "2027-12-31    8177.005953\n",
      "2028-12-31    5578.947068\n",
      "2029-12-31    6874.197472\n",
      "2030-12-31    5759.103245\n",
      "2031-12-31    9021.263522\n",
      "2032-12-31    6423.204637\n",
      "Freq: YE-DEC, dtype: float64\n"
     ]
    }
   ],
   "source": [
    "forecast_triple = model_triple_fit.forecast(12)\n",
    "print(forecast_triple)"
   ]
  },
  {
   "cell_type": "code",
   "execution_count": 44,
   "metadata": {},
   "outputs": [],
   "source": [
    "forecast_triple = model_triple_fit.forecast(40)"
   ]
  },
  {
   "cell_type": "code",
   "execution_count": 45,
   "metadata": {},
   "outputs": [
    {
     "data": {
      "image/png": "[encoded data removed]",
      "text/plain": [
       "<Figure size 640x480 with 1 Axes>"
      ]
     },
     "metadata": {},
     "output_type": "display_data"
    }
   ],
   "source": [
    "plt.plot(For_time_series_model, label='Original Data')\n",
    "plt.plot(model_triple_fit.fittedvalues, label='Fitted Values')\n",
    "plt.plot(forecast_triple, label='Forecast')\n",
    "plt.xlabel('Year')\n",
    "plt.ylabel('Number of Acres Burned')\n",
    "plt.title('Triple Exponential Smoothing')\n",
    "plt.legend()\n",
    "plt.show()"
   ]
  }
 ],
 "metadata": {
  "kernelspec": {
   "display_name": "Python 3",
   "language": "python",
   "name": "python3"
  },
  "language_info": {
   "codemirror_mode": {
    "name": "ipython",
    "version": 3
   },
   "file_extension": ".py",
   "mimetype": "text/x-python",
   "name": "python",
   "nbconvert_exporter": "python",
   "pygments_lexer": "ipython3",
   "version": "3.12.1"
  }
 },
 "nbformat": 4,
 "nbformat_minor": 2
}
